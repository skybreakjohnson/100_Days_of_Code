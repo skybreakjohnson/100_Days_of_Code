{
 "cells": [
  {
   "cell_type": "markdown",
   "metadata": {},
   "source": [
    "Day 2"
   ]
  },
  {
   "cell_type": "code",
   "execution_count": 1,
   "metadata": {},
   "outputs": [
    {
     "name": "stdout",
     "output_type": "stream",
     "text": [
      "H\n"
     ]
    }
   ],
   "source": [
    "print('Hello'[0])"
   ]
  },
  {
   "cell_type": "code",
   "execution_count": 22,
   "metadata": {},
   "outputs": [
    {
     "name": "stdout",
     "output_type": "stream",
     "text": [
      "This is an integer: 123456789\n",
      "<class 'int'>\n"
     ]
    }
   ],
   "source": [
    "integer = 123_456_789\n",
    "print(f'This is an integer: {str(integer)}')\n",
    "print(type(integer))"
   ]
  },
  {
   "cell_type": "code",
   "execution_count": 23,
   "metadata": {},
   "outputs": [
    {
     "name": "stdout",
     "output_type": "stream",
     "text": [
      "This is a float number: 3.14159\n",
      "<class 'float'>\n"
     ]
    }
   ],
   "source": [
    "float_number = 3.14159\n",
    "print(f'This is a float number: {float_number}')\n",
    "print(type(float_number)) "
   ]
  },
  {
   "cell_type": "code",
   "execution_count": 25,
   "metadata": {},
   "outputs": [
    {
     "name": "stdout",
     "output_type": "stream",
     "text": [
      "Your name has 7 characters.\n"
     ]
    }
   ],
   "source": [
    "num_char = len(input('Whats your name?'))\n",
    "\n",
    "new_num_char = str(num_char)\n",
    "\n",
    "print(f'Your name has {new_num_char} characters.')"
   ]
  },
  {
   "cell_type": "code",
   "execution_count": 26,
   "metadata": {},
   "outputs": [
    {
     "name": "stdout",
     "output_type": "stream",
     "text": [
      "3\n"
     ]
    }
   ],
   "source": [
    "two_digit_number = input(\"Type a two digit number: \")\n",
    "\n",
    "first_digit_number = int(two_digit_number[0])\n",
    "second_digit_number = int(two_digit_number[1])\n",
    "\n",
    "print(first_digit_number + second_digit_number)"
   ]
  },
  {
   "cell_type": "markdown",
   "metadata": {},
   "source": [
    "PEMDAS - Mathematic Order \n",
    "\n"
   ]
  },
  {
   "cell_type": "code",
   "execution_count": null,
   "metadata": {},
   "outputs": [],
   "source": [
    "()\n",
    "**\n",
    "*\n",
    "/\n",
    "+\n",
    "-\n"
   ]
  },
  {
   "cell_type": "code",
   "execution_count": 27,
   "metadata": {},
   "outputs": [
    {
     "name": "stdout",
     "output_type": "stream",
     "text": [
      "7.0\n"
     ]
    }
   ],
   "source": [
    "print(3 * 3 + 3 / 3 - 3)"
   ]
  },
  {
   "cell_type": "code",
   "execution_count": 28,
   "metadata": {},
   "outputs": [
    {
     "name": "stdout",
     "output_type": "stream",
     "text": [
      "3.0\n"
     ]
    }
   ],
   "source": [
    "print(3 * (3 + 3) / 3 - 3)"
   ]
  },
  {
   "cell_type": "code",
   "execution_count": 29,
   "metadata": {},
   "outputs": [
    {
     "name": "stdout",
     "output_type": "stream",
     "text": [
      "24\n"
     ]
    }
   ],
   "source": [
    "# 🚨 Don't change the code below 👇\n",
    "height = input(\"enter your height in m: \")\n",
    "weight = input(\"enter your weight in kg: \")\n",
    "# 🚨 Don't change the code above 👆\n",
    "\n",
    "#Write your code below this line 👇\n",
    "\n",
    "float_height = float(height)\n",
    "int_weight = int(weight)\n",
    "\n",
    "bmi = print(int(int_weight / float_height ** 2))\n"
   ]
  },
  {
   "cell_type": "code",
   "execution_count": 30,
   "metadata": {},
   "outputs": [
    {
     "name": "stdout",
     "output_type": "stream",
     "text": [
      "3\n"
     ]
    }
   ],
   "source": [
    "print(round(8 / 3))"
   ]
  },
  {
   "cell_type": "code",
   "execution_count": 31,
   "metadata": {},
   "outputs": [
    {
     "name": "stdout",
     "output_type": "stream",
     "text": [
      "2.67\n"
     ]
    }
   ],
   "source": [
    "print(round(8 / 3, 2))"
   ]
  },
  {
   "cell_type": "code",
   "execution_count": 32,
   "metadata": {},
   "outputs": [
    {
     "name": "stdout",
     "output_type": "stream",
     "text": [
      "2.67\n"
     ]
    }
   ],
   "source": [
    "print(round(2.6666665, 2))"
   ]
  },
  {
   "cell_type": "markdown",
   "metadata": {},
   "source": [
    "manipulate a value"
   ]
  },
  {
   "cell_type": "code",
   "execution_count": 33,
   "metadata": {},
   "outputs": [
    {
     "name": "stdout",
     "output_type": "stream",
     "text": [
      "1\n"
     ]
    }
   ],
   "source": [
    "score = 0\n",
    "\n",
    "# User scores a point\n",
    "\n",
    "# score = score + 1\n",
    "score += 1\n",
    "\n",
    "print(score)"
   ]
  },
  {
   "cell_type": "code",
   "execution_count": 34,
   "metadata": {},
   "outputs": [
    {
     "name": "stdout",
     "output_type": "stream",
     "text": [
      "You have 21900 days, 3120 weeks, and 720 months left.\n"
     ]
    }
   ],
   "source": [
    "# 🚨 Don't change the code below 👇\n",
    "age = input(\"What is your current age?\")\n",
    "# 🚨 Don't change the code above 👆\n",
    "\n",
    "#Write your code below this line 👇\n",
    "\n",
    "years = 90 - int(age)\n",
    "days =  365 * years\n",
    "weeks = years * 52\n",
    "month = years * 12\n",
    "\n",
    "\n",
    "print(f'You have {days} days, {weeks} weeks, and {month} months left.')"
   ]
  },
  {
   "cell_type": "markdown",
   "metadata": {},
   "source": [
    "#If the bill was $150.00, split between 5 people, with 12% tip. \n",
    "#Each person should pay (150.00 / 5) * 1.12 = 33.6\n",
    "#Format the result to 2 decimal places = 33.60\n",
    "#Tip: There are 2 ways to round a number. You might have to do some Googling to solve this.💪\n",
    "#HINT 1: https://www.google.com/search?q=how+to+round+number+to+2+decimal+places+python&oq=how+to+round+number+to+2+decimal\n",
    "#HINT 2: https://www.kite.com/python/answers/how-to-limit-a-float-to-two-decimal-places-in-python"
   ]
  },
  {
   "cell_type": "code",
   "execution_count": 1,
   "metadata": {},
   "outputs": [
    {
     "name": "stdout",
     "output_type": "stream",
     "text": [
      "Bitch thats 33.60 per person!\n"
     ]
    }
   ],
   "source": [
    "bill = input('Hey bitch how much ive got paid this time: ')\n",
    "percentage_raw = input('How much u would give this poor bastard? 10, 12, or 15 hum?  ')\n",
    "how_many = input('Yo wheres the gang bitch, how many are left? ')\n",
    "\n",
    "ten_percent = 1.10\n",
    "twelf_percent = 1.12\n",
    "fiveteen_percent = 1.15\n",
    "\n",
    "payment_each = float(bill) / int(how_many)\n",
    "if percentage_raw == '10':\n",
    "    payment = payment_each * twelf_percent  \n",
    "elif percentage_raw == '12':\n",
    "    payment = payment_each * twelf_percent\n",
    "elif percentage_raw == '15':\n",
    "    payment = payment_each * twelf_percent\n",
    "else:\n",
    "    pass\n",
    "\n",
    "total_payment = \"{:.2f}\".format(payment)\n",
    "print(f'Bitch thats {total_payment} per person!')"
   ]
  },
  {
   "cell_type": "code",
   "execution_count": 38,
   "metadata": {},
   "outputs": [
    {
     "name": "stdout",
     "output_type": "stream",
     "text": [
      "Bitch thats 33.60 per person!\n"
     ]
    }
   ],
   "source": [
    "bill = float(input('Hey bitch how much ive got paid this time: '))\n",
    "tip = int(input('How much u would give this poor bastard? 10, 12, or 15 hum?  '))\n",
    "how_many = int(input('Yo wheres the gang bitch, how many are left? '))\n",
    "\n",
    "tip_as_percent = tip / 100       # eg: 12 / 100 = 0.12\n",
    "total_tip_amount = bill * tip_as_percent        # eg: 150 * 0.12 = 18.0\n",
    "total_bill = bill + total_tip_amount        # eg: 150 + 18.0 = 168\n",
    "bill_per_person = total_bill / how_many       # eg: 168 / 5\n",
    "#final_amount = round(bill_per_person, 2)       # -> 33.6 ( not 33.60 )\n",
    "final_amount = '{:.2f}'.format(bill_per_person)\n",
    "print(f'Bitch thats {final_amount} per person!')"
   ]
  },
  {
   "cell_type": "code",
   "execution_count": null,
   "metadata": {},
   "outputs": [],
   "source": []
  }
 ],
 "metadata": {
  "kernelspec": {
   "display_name": "Python 3",
   "language": "python",
   "name": "python3"
  },
  "language_info": {
   "codemirror_mode": {
    "name": "ipython",
    "version": 3
   },
   "file_extension": ".py",
   "mimetype": "text/x-python",
   "name": "python",
   "nbconvert_exporter": "python",
   "pygments_lexer": "ipython3",
   "version": "3.7.3"
  }
 },
 "nbformat": 4,
 "nbformat_minor": 2
}
