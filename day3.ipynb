{
 "cells": [
  {
   "cell_type": "markdown",
   "metadata": {},
   "source": [
    "Day 3"
   ]
  },
  {
   "cell_type": "code",
   "execution_count": 7,
   "metadata": {},
   "outputs": [
    {
     "name": "stdout",
     "output_type": "stream",
     "text": [
      "This is a odd number.\n"
     ]
    }
   ],
   "source": [
    "# 🚨 Don't change the code below 👇\n",
    "number = int(input(\"Which number do you want to check? \"))\n",
    "# 🚨 Don't change the code above 👆\n",
    "\n",
    "#Write your code below this line 👇\n",
    "\n",
    "if number % 2 == 0:\n",
    "  print('This is a even number.')\n",
    "else:\n",
    "  print('This is a odd number.')"
   ]
  },
  {
   "cell_type": "markdown",
   "metadata": {},
   "source": [
    "Nested if statements and elif statements"
   ]
  },
  {
   "cell_type": "code",
   "execution_count": 4,
   "metadata": {},
   "outputs": [
    {
     "name": "stdout",
     "output_type": "stream",
     "text": [
      "You can ride the rollercoaster!\n",
      "Please pay $7.\n"
     ]
    }
   ],
   "source": [
    "height = int(input('How tall are u? '))\n",
    "\n",
    "if height >= 120:\n",
    "    print('You can ride the rollercoaster!')\n",
    "    age = int(input('Whats your age? '))\n",
    "    if age < 12:\n",
    "        print('Please pay $5.')\n",
    "    elif age <= 18:\n",
    "        print('Please pay $7.')\n",
    "    else:\n",
    "        print('Please pay $12.')\n",
    "else:\n",
    "    print('Sorry, u have to grow taller before u can ride.')\n"
   ]
  },
  {
   "cell_type": "code",
   "execution_count": 14,
   "metadata": {},
   "outputs": [
    {
     "name": "stdout",
     "output_type": "stream",
     "text": [
      "Your BMI is 25, you have a normal weight.\n"
     ]
    }
   ],
   "source": [
    "# 🚨 Don't change the code below 👇\n",
    "height = float(input(\"enter your height in m: \"))\n",
    "weight = float(input(\"enter your weight in kg: \"))\n",
    "# 🚨 Don't change the code above 👆\n",
    "\n",
    "#Write your code below this line 👇\n",
    "\n",
    "\"Your BMI is 18, you are underweight.\"\n",
    "\"Your BMI is 22, you have a normal weight.\"\n",
    "\"Your BMI is 28, you are slightly overweight.\"\n",
    "\"Your BMI is 33, you are obese.\"\n",
    "\"Your BMI is 40, you are clinically obese.\"\n",
    "\n",
    "bmi = round(weight / height ** 2)\n",
    "\n",
    "if bmi < 18.5:\n",
    "  print(f\"Your BMI is {bmi}, you are underweight.\")\n",
    "elif bmi <= 25:\n",
    "  print(f\"Your BMI is {bmi}, you have a normal weight.\")\n",
    "elif bmi <= 30:\n",
    "  print(f\"Your BMI is {bmi}, you are slightly overweight.\")\n",
    "elif bmi <= 35:\n",
    "  print(f\"Your BMI is {bmi}, you are obese.\") \n",
    "elif bmi > 35:\n",
    "  print(f'Your BMI is {bmi}, you are almost dead.')\n",
    "else:\n",
    "  print('That should never happened cyka.')"
   ]
  },
  {
   "cell_type": "code",
   "execution_count": 10,
   "metadata": {},
   "outputs": [
    {
     "name": "stdout",
     "output_type": "stream",
     "text": [
      "Leap year.\n"
     ]
    }
   ],
   "source": [
    "year = int(input(\"Which year do you want to check? \"))\n",
    "\n",
    "if year % 4 == 0:\n",
    "  if year % 100 != 0:\n",
    "    print('Leap year.')\n",
    "  elif year % 400 != 0:\n",
    "    print('Not leap year.')\n",
    "  elif year % 400 == 0:\n",
    "    print('Leap year.')\n",
    "else:\n",
    "  print('Not a leap year.')  "
   ]
  },
  {
   "cell_type": "code",
   "execution_count": 11,
   "metadata": {},
   "outputs": [
    {
     "name": "stdout",
     "output_type": "stream",
     "text": [
      "Leap year.\n"
     ]
    }
   ],
   "source": [
    "year = int(input(\"Which year do you want to check? \"))\n",
    "\n",
    "if year % 4 == 0:\n",
    "  if year % 100 == 0:\n",
    "    if year % 400 == 0:\n",
    "      print(\"Leap year.\")\n",
    "    else:\n",
    "      print(\"Not leap year.\")\n",
    "  else:\n",
    "    print(\"Leap year.\")\n",
    "else:\n",
    "  print(\"Not leap year.\")"
   ]
  },
  {
   "cell_type": "code",
   "execution_count": 18,
   "metadata": {},
   "outputs": [
    {
     "name": "stdout",
     "output_type": "stream",
     "text": [
      "You can ride the rollercoaster!\n",
      "Please pay $12.\n",
      "Your final bill is $12\n"
     ]
    }
   ],
   "source": [
    "height = int(input('How tall are u? '))\n",
    "bill = 0\n",
    "\n",
    "if height >= 120:\n",
    "    print('You can ride the rollercoaster!')\n",
    "    age = int(input('Whats your age? '))\n",
    "    if age < 12:\n",
    "        bill = 5\n",
    "        print('Please pay $5.')\n",
    "    elif age <= 18:\n",
    "        bill = 7\n",
    "        print('Please pay $7.')\n",
    "    else:\n",
    "        bill = 12\n",
    "        print('Please pay $12.')\n",
    "\n",
    "    wants_photo = input('Do u want a photo taken? Y or N ')\n",
    "    if wants_photo == 'Y':\n",
    "        #bill = bill + 3\n",
    "        bill += 3\n",
    "    if wants_photo == 'N':\n",
    "        pass\n",
    "    print(f'Your final bill is ${bill}')\n",
    "\n",
    "else:\n",
    "    print('Sorry, u have to grow taller before u can ride.')"
   ]
  },
  {
   "cell_type": "code",
   "execution_count": 19,
   "metadata": {},
   "outputs": [
    {
     "name": "stdout",
     "output_type": "stream",
     "text": [
      "Welcome to Python Pizza Deliveries!\n",
      "Your final bill is: $28.\n"
     ]
    }
   ],
   "source": [
    "# 🚨 Don't change the code below 👇\n",
    "print(\"Welcome to Python Pizza Deliveries!\")\n",
    "size = input(\"What size pizza do you want? S, M, or L \")\n",
    "add_pepperoni = input(\"Do you want pepperoni? Y or N \")\n",
    "extra_cheese = input(\"Do you want extra cheese? Y or N \")\n",
    "# 🚨 Don't change the code above 👆\n",
    "\n",
    "#Write your code below this line 👇\n",
    "\n",
    "bill = 0\n",
    "\n",
    "if size == 'S':\n",
    "  bill += 15\n",
    "  if add_pepperoni == 'Y':\n",
    "    bill += 2\n",
    "  if extra_cheese == 'Y':\n",
    "    bill += 1\n",
    "elif size == 'M':\n",
    "  bill = 20\n",
    "  if add_pepperoni == 'Y':\n",
    "    bill += 3\n",
    "  if extra_cheese == 'Y':\n",
    "    bill += 1 \n",
    "elif size == 'L':\n",
    "  bill = 25\n",
    "  if add_pepperoni == 'Y':\n",
    "    bill += 3\n",
    "  if extra_cheese == 'Y':\n",
    "    bill += 1\n",
    "\n",
    "print(f'Your final bill is: ${bill}.')"
   ]
  },
  {
   "cell_type": "code",
   "execution_count": 20,
   "metadata": {},
   "outputs": [
    {
     "name": "stdout",
     "output_type": "stream",
     "text": [
      "Welcome to Python Pizza Deliveries!\n",
      "Your final bill is: $28.\n"
     ]
    }
   ],
   "source": [
    "# 🚨 Don't change the code below 👇\n",
    "print(\"Welcome to Python Pizza Deliveries!\")\n",
    "size = input(\"What size pizza do you want? S, M, or L \")\n",
    "add_pepperoni = input(\"Do you want pepperoni? Y or N \")\n",
    "extra_cheese = input(\"Do you want extra cheese? Y or N \")\n",
    "# 🚨 Don't change the code above 👆\n",
    "\n",
    "#Write your code below this line 👇\n",
    "\n",
    "bill = 0\n",
    "\n",
    "if size == \"S\":\n",
    "  bill += 15\n",
    "elif size == \"M\":\n",
    "  bill += 20\n",
    "else:\n",
    "  bill += 25\n",
    "\n",
    "if add_pepperoni == \"Y\":\n",
    "  if size == \"S\":\n",
    "    bill += 2\n",
    "  else:\n",
    "    bill += 3\n",
    "    \n",
    "if extra_cheese == \"Y\":\n",
    "  bill += 1\n",
    "  \n",
    "print(f\"Your final bill is: ${bill}.\")"
   ]
  },
  {
   "cell_type": "code",
   "execution_count": 26,
   "metadata": {},
   "outputs": [
    {
     "name": "stdout",
     "output_type": "stream",
     "text": [
      "You can ride the rollercoaster!\n",
      "Everything is going to be ok. Have a free ride with us!\n",
      "Your final bill is $3\n"
     ]
    }
   ],
   "source": [
    "height = int(input('How tall are u? '))\n",
    "bill = 0\n",
    "\n",
    "if height >= 120:\n",
    "    print('You can ride the rollercoaster!')\n",
    "    age = int(input('Whats your age? '))\n",
    "    if age < 12:\n",
    "        bill = 5\n",
    "        print('Please pay $5.')\n",
    "    elif age <= 18:\n",
    "        bill = 7\n",
    "        print('Please pay $7.')\n",
    "    elif age >= 45 and age <= 55:\n",
    "        print('Everything is going to be ok. Have a free ride with us!')\n",
    "    else:\n",
    "        bill = 12\n",
    "        print('Please pay $12.')\n",
    "\n",
    "    wants_photo = input('Do u want a photo taken? Y or N ')\n",
    "    if wants_photo == 'Y':\n",
    "        #bill = bill + 3\n",
    "        bill += 3\n",
    "    if wants_photo == 'N':\n",
    "        pass\n",
    "    print(f'Your final bill is ${bill}')\n",
    "\n",
    "else:\n",
    "    print('Sorry, u have to grow taller before u can ride.')"
   ]
  },
  {
   "cell_type": "code",
   "execution_count": 27,
   "metadata": {},
   "outputs": [
    {
     "name": "stdout",
     "output_type": "stream",
     "text": [
      "Welcome to the Love Calculator!\n",
      "Your score is 53\n"
     ]
    }
   ],
   "source": [
    "# 🚨 Don't change the code below 👇\n",
    "print(\"Welcome to the Love Calculator!\")\n",
    "name1 = input(\"What is your name? \\n\")\n",
    "name2 = input(\"What is their name? \\n\")\n",
    "# 🚨 Don't change the code above 👆\n",
    "\n",
    "#Write your code below this line 👇\n",
    "\n",
    "names = name1 + name2\n",
    "lower_names = names.lower()\n",
    "\n",
    "true = 0\n",
    "love = 0\n",
    "\n",
    "true += lower_names.count('t')\n",
    "true += lower_names.count('r')\n",
    "true += lower_names.count('u')\n",
    "true += lower_names.count('e')\n",
    "\n",
    "love += lower_names.count('l')\n",
    "love += lower_names.count('o')\n",
    "love += lower_names.count('v')\n",
    "love += lower_names.count('e')\n",
    "\n",
    "truelove = int(f'{true}{love}')\n",
    "\n",
    "if truelove < 10 or truelove > 90:\n",
    "  print('Your score is, you go together like coke and mentos')\n",
    "elif truelove > 40 and truelove < 50:\n",
    "  print('Your score is, you are alright together.')\n",
    "else:\n",
    "  print(message)"
   ]
  },
  {
   "cell_type": "code",
   "execution_count": 29,
   "metadata": {},
   "outputs": [
    {
     "name": "stdout",
     "output_type": "stream",
     "text": [
      "Welcome to the Love Calculator!\n",
      "Your score is 53.\n"
     ]
    }
   ],
   "source": [
    "# 🚨 Don't change the code below 👇\n",
    "print(\"Welcome to the Love Calculator!\")\n",
    "name1 = input(\"What is your name? \\n\")\n",
    "name2 = input(\"What is their name? \\n\")\n",
    "# 🚨 Don't change the code above 👆\n",
    "\n",
    "#Write your code below this line 👇\n",
    "\n",
    "combined_names = name1 + name2\n",
    "lower_names = combined_names.lower()\n",
    "t = lower_names.count(\"t\")\n",
    "r = lower_names.count(\"r\")\n",
    "u = lower_names.count(\"u\")\n",
    "e = lower_names.count(\"e\")\n",
    "first_digit = t + r + u + e\n",
    "\n",
    "l = lower_names.count(\"l\")\n",
    "o = lower_names.count(\"o\")\n",
    "v = lower_names.count(\"v\")\n",
    "e = lower_names.count(\"e\")\n",
    "second_digit = l + o + v + e\n",
    "\n",
    "score = int(str(first_digit) + str(second_digit))\n",
    "\n",
    "if (score < 10) or (score > 90):\n",
    "  print(f\"Your score is {score}, you go together like coke and mentos.\")\n",
    "elif (score >= 40) and (score <= 50):\n",
    "  print(f\"Your score is {score}, you are alright together.\")\n",
    "else:\n",
    "  print(f\"Your score is {score}.\")"
   ]
  },
  {
   "cell_type": "code",
   "execution_count": 6,
   "metadata": {},
   "outputs": [
    {
     "name": "stdout",
     "output_type": "stream",
     "text": [
      "\n",
      "*******************************************************************************\n",
      "          |                   |                  |                     |\n",
      " _________|________________.=\"\"_;=.______________|_____________________|_______\n",
      "|                   |  ,-\"_,=\"\"     `\"=.|                  |\n",
      "|___________________|__\"=._o`\"-._        `\"=.______________|___________________\n",
      "          |                `\"=._o`\"=._      _`\"=._                     |\n",
      " _________|_____________________:=._o \"=._.\"_.-=\"'\"=.__________________|_______\n",
      "|                   |    __.--\" , ; `\"=._o.\" ,-\"\"\"-._ \".   |\n",
      "|___________________|_._\"  ,. .` ` `` ,  `\"-._\"-._   \". '__|___________________\n",
      "          |           |o`\"=._` , \"` `; .\". ,  \"-._\"-._; ;              |\n",
      " _________|___________| ;`-.o`\"=._; .\" ` '`.\"\\` . \"-._ /_______________|_______\n",
      "|                   | |o;    `\"-.o`\"=._``  '` \" ,__.--o;   |\n",
      "|___________________|_| ;     (#) `-.o `\"=.`_.--\"_o.-; ;___|___________________\n",
      "____/______/______/___|o;._    \"      `\".o|o_.--\"    ;o;____/______/______/____\n",
      "/______/______/______/_\"=._o--._        ; | ;        ; ;/______/______/______/_\n",
      "____/______/______/______/__\"=._o--._   ;o|o;     _._;o;____/______/______/____\n",
      "/______/______/______/______/____\"=._o._; | ;_.--\"o.--\"_/______/______/______/_\n",
      "____/______/______/______/______/_____\"=.o|o_.--\"\"___/______/______/______/____\n",
      "/______/______/______/______/______/______/______/______/______/______/_____ /\n",
      "*******************************************************************************\n",
      "\n",
      "Welcome to Treasure Island.\n",
      "Your mission is to find the treasure.\n",
      "Congratulations cyka, you win!\n"
     ]
    }
   ],
   "source": [
    "print('''\n",
    "*******************************************************************************\n",
    "          |                   |                  |                     |\n",
    " _________|________________.=\"\"_;=.______________|_____________________|_______\n",
    "|                   |  ,-\"_,=\"\"     `\"=.|                  |\n",
    "|___________________|__\"=._o`\"-._        `\"=.______________|___________________\n",
    "          |                `\"=._o`\"=._      _`\"=._                     |\n",
    " _________|_____________________:=._o \"=._.\"_.-=\"'\"=.__________________|_______\n",
    "|                   |    __.--\" , ; `\"=._o.\" ,-\"\"\"-._ \".   |\n",
    "|___________________|_._\"  ,. .` ` `` ,  `\"-._\"-._   \". '__|___________________\n",
    "          |           |o`\"=._` , \"` `; .\". ,  \"-._\"-._; ;              |\n",
    " _________|___________| ;`-.o`\"=._; .\" ` '`.\"\\` . \"-._ /_______________|_______\n",
    "|                   | |o;    `\"-.o`\"=._``  '` \" ,__.--o;   |\n",
    "|___________________|_| ;     (#) `-.o `\"=.`_.--\"_o.-; ;___|___________________\n",
    "____/______/______/___|o;._    \"      `\".o|o_.--\"    ;o;____/______/______/____\n",
    "/______/______/______/_\"=._o--._        ; | ;        ; ;/______/______/______/_\n",
    "____/______/______/______/__\"=._o--._   ;o|o;     _._;o;____/______/______/____\n",
    "/______/______/______/______/____\"=._o._; | ;_.--\"o.--\"_/______/______/______/_\n",
    "____/______/______/______/______/_____\"=.o|o_.--\"\"___/______/______/______/____\n",
    "/______/______/______/______/______/______/______/______/______/______/_____ /\n",
    "*******************************************************************************\n",
    "''')\n",
    "print(\"Welcome to Treasure Island.\")\n",
    "print(\"Your mission is to find the treasure.\") \n",
    "\n",
    "#https://www.draw.io/?lightbox=1&highlight=0000ff&edit=_blank&layers=1&nav=1&title=Treasure%20Island%20Conditional.drawio#Uhttps%3A%2F%2Fdrive.google.com%2Fuc%3Fid%3D1oDe4ehjWZipYRsVfeAx2HyB7LCQ8_Fvi%26export%3Ddownload\n",
    "\n",
    "mothers_house = input('You\\'re at ur mothers house. 2 Rooms. Left or right? ')\n",
    "if mothers_house == 'R':\n",
    "    print('Cyka u fall into a hole. Game Over.')\n",
    "else:\n",
    "    swim_or_wait = input('You are in the ass huge bathtube now. U wanna swim or wait?')       \n",
    "    if swim_or_wait == 'swim':\n",
    "        print('Cyka, youre dead, attecked by trout. Game Over.')\n",
    "    else:\n",
    "        which_door = input('Which door? Red, blue or yellow? ')\n",
    "        if which_door == 'blue':\n",
    "            print('Cyka, youve got eaten by beast. Game Over.')\n",
    "        elif which_door == 'red':\n",
    "            print('Burned by fire cyka. Game Over.')\n",
    "        elif which_door == 'yellow':\n",
    "            print('Congratulations cyka, you win!')\n",
    "        else:\n",
    "            print('Game Over.')\n",
    "\n"
   ]
  },
  {
   "cell_type": "code",
   "execution_count": null,
   "metadata": {},
   "outputs": [],
   "source": []
  }
 ],
 "metadata": {
  "kernelspec": {
   "display_name": "Python 3",
   "language": "python",
   "name": "python3"
  },
  "language_info": {
   "codemirror_mode": {
    "name": "ipython",
    "version": 3
   },
   "file_extension": ".py",
   "mimetype": "text/x-python",
   "name": "python",
   "nbconvert_exporter": "python",
   "pygments_lexer": "ipython3",
   "version": "3.7.3"
  }
 },
 "nbformat": 4,
 "nbformat_minor": 2
}
